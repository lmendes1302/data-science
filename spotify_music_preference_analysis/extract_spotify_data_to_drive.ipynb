{
  "nbformat": 4,
  "nbformat_minor": 0,
  "metadata": {
    "colab": {
      "name": "extract_spotify_data_to_drive",
      "provenance": [],
      "authorship_tag": "ABX9TyMkfCTL+vGPcLUGat1tlBbT",
      "include_colab_link": true
    },
    "kernelspec": {
      "name": "python3",
      "display_name": "Python 3"
    },
    "language_info": {
      "name": "python"
    }
  },
  "cells": [
    {
      "cell_type": "markdown",
      "metadata": {
        "id": "view-in-github",
        "colab_type": "text"
      },
      "source": [
        "<a href=\"https://colab.research.google.com/github/lmendes1302/data-science/blob/main/extract_spotify_data_to_drive.ipynb\" target=\"_parent\"><img src=\"https://colab.research.google.com/assets/colab-badge.svg\" alt=\"Open In Colab\"/></a>"
      ]
    },
    {
      "cell_type": "markdown",
      "metadata": {
        "id": "4bDDUx-PxKm3"
      },
      "source": [
        "This notebook is responsible for extracting data from [Kaggle](https://https://www.kaggle.com) and save it on google drive.\n",
        "\n",
        "This notebook extract the following datasets:\n",
        "* [Spotify Artists Dataset, 1922-2021](https://www.kaggle.com/yamaerenay/spotify-artists-dataset-19222021)\n",
        "* [Spotify Tracks Dataset, 1922-2021](https://www.kaggle.com/yamaerenay/spotify-tracks-dataset-19222021)\n",
        "\n",
        "These datasets will be used on a later analysis as requirement from Udacity Data Scientist Nanodegree program.\n",
        "\n",
        "\n",
        "Thanks to [Kevin Luk](https://medium.com/@kevinluk) for this [reference](https://towardsdatascience.com/downloading-datasets-into-google-drive-via-google-colab-bcb1b30b0166) on how to use kaggle API and [Yamac Eren Ay](https://www.kaggle.com/yamaerenay)\n",
        "\n"
      ]
    },
    {
      "cell_type": "markdown",
      "metadata": {
        "id": "TW0EE-lFzrRc"
      },
      "source": [
        "1. Instantiating google drive on Google Colab"
      ]
    },
    {
      "cell_type": "code",
      "metadata": {
        "colab": {
          "base_uri": "https://localhost:8080/"
        },
        "id": "vrI2AFFHoahi",
        "outputId": "07dcb9ba-fabc-4731-c919-66140d968305"
      },
      "source": [
        "from google.colab import drive\n",
        "drive.mount('/content/gdrive')"
      ],
      "execution_count": 1,
      "outputs": [
        {
          "output_type": "stream",
          "text": [
            "Mounted at /content/gdrive\n"
          ],
          "name": "stdout"
        }
      ]
    },
    {
      "cell_type": "code",
      "metadata": {
        "id": "qvg7PrFjohho"
      },
      "source": [
        "root_path = 'gdrive/My Drive/Udacity Data Science Nanodegree/'"
      ],
      "execution_count": 1,
      "outputs": []
    },
    {
      "cell_type": "markdown",
      "metadata": {
        "id": "aA4kDSR1z0xt"
      },
      "source": [
        " 2. Upload kaggle api token"
      ]
    },
    {
      "cell_type": "code",
      "metadata": {
        "colab": {
          "resources": {
            "http://localhost:8080/nbextensions/google.colab/files.js": {
              "data": "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",
              "ok": true,
              "headers": [
                [
                  "content-type",
                  "application/javascript"
                ]
              ],
              "status": 200,
              "status_text": ""
            }
          },
          "base_uri": "https://localhost:8080/",
          "height": 55
        },
        "id": "CuV5V_pPo9ML",
        "outputId": "55e91949-7c96-4c0a-e165-785e9dad4bf8"
      },
      "source": [
        "from google.colab import files\n",
        "files.upload()"
      ],
      "execution_count": 2,
      "outputs": [
        {
          "output_type": "display_data",
          "data": {
            "text/html": [
              "\n",
              "     <input type=\"file\" id=\"files-17f19ac3-0724-444b-ba24-5ddb1c651fd3\" name=\"files[]\" multiple disabled\n",
              "        style=\"border:none\" />\n",
              "     <output id=\"result-17f19ac3-0724-444b-ba24-5ddb1c651fd3\">\n",
              "      Upload widget is only available when the cell has been executed in the\n",
              "      current browser session. Please rerun this cell to enable.\n",
              "      </output>\n",
              "      <script src=\"/nbextensions/google.colab/files.js\"></script> "
            ],
            "text/plain": [
              "<IPython.core.display.HTML object>"
            ]
          },
          "metadata": {
            "tags": []
          }
        },
        {
          "output_type": "execute_result",
          "data": {
            "text/plain": [
              "{}"
            ]
          },
          "metadata": {
            "tags": []
          },
          "execution_count": 2
        }
      ]
    },
    {
      "cell_type": "markdown",
      "metadata": {
        "id": "rcXpnNl3z6vD"
      },
      "source": [
        " 3. Installing kaggle api package"
      ]
    },
    {
      "cell_type": "code",
      "metadata": {
        "colab": {
          "base_uri": "https://localhost:8080/"
        },
        "id": "fgAswRx2qWD7",
        "outputId": "a266edbd-1f41-448a-fbcf-eb079dfa318a"
      },
      "source": [
        "!pip install -q kaggle\n",
        "!mkdir -p ~/.kaggle\n",
        "!cp kaggle.json ~/.kaggle/\n",
        "!ls ~/.kaggle\n",
        "!chmod 600 /root/.kaggle/kaggle.json"
      ],
      "execution_count": 3,
      "outputs": [
        {
          "output_type": "stream",
          "text": [
            "kaggle.json\n"
          ],
          "name": "stdout"
        }
      ]
    },
    {
      "cell_type": "markdown",
      "metadata": {
        "id": "E1XYeg7gz-bu"
      },
      "source": [
        "4. Using API to survey datasets and download desired datasets"
      ]
    },
    {
      "cell_type": "code",
      "metadata": {
        "colab": {
          "base_uri": "https://localhost:8080/"
        },
        "id": "hhwEVqf-qa1U",
        "outputId": "abe369aa-ef64-45b0-c1ed-8f28709576a9"
      },
      "source": [
        "!kaggle datasets list -s yamaerenay/spotify-artists-dataset-19222021"
      ],
      "execution_count": 4,
      "outputs": [
        {
          "output_type": "stream",
          "text": [
            "Warning: Looks like you're using an outdated API Version, please consider updating (server 1.5.12 / client 1.5.4)\n",
            "ref                                              title                                     size  lastUpdated          downloadCount  \n",
            "-----------------------------------------------  ---------------------------------------  -----  -------------------  -------------  \n",
            "yamaerenay/spotify-dataset-19212020-160k-tracks  Spotify Dataset 1922-2021, ~600k Tracks  195MB  2021-04-20 21:27:35          31956  \n",
            "yamaerenay/spotify-artists-dataset-19222021      Spotify Artists Dataset, 1922-2021       414MB  2021-04-18 05:31:17             30  \n",
            "yamaerenay/spotify-tracks-dataset-19222021       Spotify Tracks Dataset 1922-2021           1GB  2021-04-16 11:01:13             78  \n"
          ],
          "name": "stdout"
        }
      ]
    },
    {
      "cell_type": "code",
      "metadata": {
        "colab": {
          "base_uri": "https://localhost:8080/"
        },
        "id": "vzGF1arXrJfA",
        "outputId": "781ecc99-2794-4dd9-972a-7134c5ad0628"
      },
      "source": [
        "!kaggle datasets download yamaerenay/spotify-artists-dataset-19222021 -p /content/gdrive/My\\ Drive/Udacity\\ Data\\ Science\\ Nanodegree/spotify_data"
      ],
      "execution_count": 5,
      "outputs": [
        {
          "output_type": "stream",
          "text": [
            "spotify-artists-dataset-19222021.zip: Skipping, found more recently modified local copy (use --force to force download)\n"
          ],
          "name": "stdout"
        }
      ]
    },
    {
      "cell_type": "code",
      "metadata": {
        "colab": {
          "base_uri": "https://localhost:8080/"
        },
        "id": "KDB9TPmDr6mw",
        "outputId": "2f433486-3621-431c-d408-cd4b5d66dcf7"
      },
      "source": [
        "import os\n",
        "\n",
        "os.chdir('gdrive/My Drive/Udacity Data Science Nanodegree/spotify_data')\n",
        "!mkdir artists_data\n",
        "!unzip spotify-artists-dataset-19222021.zip -d artists_data"
      ],
      "execution_count": 6,
      "outputs": [
        {
          "output_type": "stream",
          "text": [
            "Archive:  spotify-artists-dataset-19222021.zip\n",
            "  inflating: artists_data/BI.csv     \n",
            "  inflating: artists_data/CA.csv     \n",
            "  inflating: artists_data/CH.csv     \n",
            "  inflating: artists_data/CL.csv     \n",
            "  inflating: artists_data/CM.csv     \n",
            "  inflating: artists_data/CO.csv     \n",
            "  inflating: artists_data/CR.csv     \n",
            "  inflating: artists_data/CY.csv     \n",
            "  inflating: artists_data/CZ.csv     \n",
            "  inflating: artists_data/DE.csv     \n",
            "  inflating: artists_data/DJ.csv     \n",
            "  inflating: artists_data/DK.csv     \n",
            "  inflating: artists_data/DM.csv     \n",
            "  inflating: artists_data/DO.csv     \n",
            "  inflating: artists_data/EC.csv     \n",
            "  inflating: artists_data/EE.csv     \n",
            "  inflating: artists_data/EG.csv     \n",
            "  inflating: artists_data/ES.csv     \n",
            "  inflating: artists_data/FI.csv     \n",
            "  inflating: artists_data/FJ.csv     \n",
            "  inflating: artists_data/FR.csv     \n",
            "  inflating: artists_data/GA.csv     \n",
            "  inflating: artists_data/GB.csv     \n",
            "  inflating: artists_data/GD.csv     \n",
            "  inflating: artists_data/GE.csv     \n",
            "  inflating: artists_data/GH.csv     \n",
            "  inflating: artists_data/GM.csv     \n",
            "  inflating: artists_data/GN.csv     \n",
            "  inflating: artists_data/GQ.csv     \n",
            "  inflating: artists_data/GR.csv     \n",
            "  inflating: artists_data/GT.csv     \n",
            "  inflating: artists_data/GW.csv     \n",
            "  inflating: artists_data/GY.csv     \n",
            "  inflating: artists_data/HK.csv     \n",
            "  inflating: artists_data/HN.csv     \n",
            "  inflating: artists_data/HR.csv     \n",
            "  inflating: artists_data/HT.csv     \n",
            "  inflating: artists_data/HU.csv     \n",
            "  inflating: artists_data/ID.csv     \n",
            "  inflating: artists_data/IE.csv     \n",
            "  inflating: artists_data/IL.csv     \n",
            "  inflating: artists_data/IN.csv     \n",
            "  inflating: artists_data/IS.csv     \n",
            "  inflating: artists_data/IT.csv     \n",
            "  inflating: artists_data/JM.csv     \n",
            "  inflating: artists_data/JO.csv     \n",
            "  inflating: artists_data/JP.csv     \n",
            "  inflating: artists_data/KE.csv     \n",
            "  inflating: artists_data/KG.csv     \n",
            "  inflating: artists_data/KH.csv     \n",
            "  inflating: artists_data/KI.csv     \n",
            "  inflating: artists_data/KM.csv     \n",
            "  inflating: artists_data/KW.csv     \n",
            "  inflating: artists_data/KZ.csv     \n",
            "  inflating: artists_data/LA.csv     \n",
            "  inflating: artists_data/LB.csv     \n",
            "  inflating: artists_data/LI.csv     \n",
            "  inflating: artists_data/LK.csv     \n",
            "  inflating: artists_data/LR.csv     \n",
            "  inflating: artists_data/LS.csv     \n",
            "  inflating: artists_data/LT.csv     \n",
            "  inflating: artists_data/LU.csv     \n",
            "  inflating: artists_data/LV.csv     \n",
            "  inflating: artists_data/MA.csv     \n",
            "  inflating: artists_data/MC.csv     \n",
            "  inflating: artists_data/ME.csv     \n",
            "  inflating: artists_data/MG.csv     \n",
            "  inflating: artists_data/MH.csv     \n",
            "  inflating: artists_data/ML.csv     \n",
            "  inflating: artists_data/MN.csv     \n",
            "  inflating: artists_data/MO.csv     \n",
            "  inflating: artists_data/MR.csv     \n",
            "  inflating: artists_data/MT.csv     \n",
            "  inflating: artists_data/MU.csv     \n",
            "  inflating: artists_data/MV.csv     \n",
            "  inflating: artists_data/MW.csv     \n",
            "  inflating: artists_data/MX.csv     \n",
            "  inflating: artists_data/MY.csv     \n",
            "  inflating: artists_data/MZ.csv     \n",
            "  inflating: artists_data/NE.csv     \n",
            "  inflating: artists_data/NG.csv     \n",
            "  inflating: artists_data/NI.csv     \n",
            "  inflating: artists_data/NL.csv     \n",
            "  inflating: artists_data/NO.csv     \n",
            "  inflating: artists_data/NP.csv     \n",
            "  inflating: artists_data/NR.csv     \n",
            "  inflating: artists_data/NZ.csv     \n",
            "  inflating: artists_data/OM.csv     \n",
            "  inflating: artists_data/PA.csv     \n",
            "  inflating: artists_data/PE.csv     \n",
            "  inflating: artists_data/PG.csv     \n",
            "  inflating: artists_data/PH.csv     \n",
            "  inflating: artists_data/PK.csv     \n",
            "  inflating: artists_data/PL.csv     \n",
            "  inflating: artists_data/PT.csv     \n",
            "  inflating: artists_data/PW.csv     \n",
            "  inflating: artists_data/PY.csv     \n",
            "  inflating: artists_data/QA.csv     \n",
            "  inflating: artists_data/RO.csv     \n",
            "  inflating: artists_data/RS.csv     \n",
            "  inflating: artists_data/RW.csv     \n",
            "  inflating: artists_data/SA.csv     \n",
            "  inflating: artists_data/SB.csv     \n",
            "  inflating: artists_data/SC.csv     \n",
            "  inflating: artists_data/SE.csv     \n",
            "  inflating: artists_data/SG.csv     \n",
            "  inflating: artists_data/SI.csv     \n",
            "  inflating: artists_data/SK.csv     \n",
            "  inflating: artists_data/SL.csv     \n",
            "  inflating: artists_data/SM.csv     \n",
            "  inflating: artists_data/SN.csv     \n",
            "  inflating: artists_data/ST.csv     \n",
            "  inflating: artists_data/SV.csv     \n",
            "  inflating: artists_data/SZ.csv     \n",
            "  inflating: artists_data/TD.csv     \n",
            "  inflating: artists_data/TG.csv     \n",
            "  inflating: artists_data/TH.csv     \n",
            "  inflating: artists_data/TL.csv     \n",
            "  inflating: artists_data/TN.csv     \n",
            "  inflating: artists_data/TO.csv     \n",
            "  inflating: artists_data/TR.csv     \n",
            "  inflating: artists_data/TT.csv     \n",
            "  inflating: artists_data/TV.csv     \n",
            "  inflating: artists_data/UA.csv     \n",
            "  inflating: artists_data/UG.csv     \n"
          ],
          "name": "stdout"
        }
      ]
    },
    {
      "cell_type": "code",
      "metadata": {
        "colab": {
          "base_uri": "https://localhost:8080/"
        },
        "id": "1Qr2PAg5sf_h",
        "outputId": "fd5967ec-bb45-427d-ecf1-1c0b28c7b9b5"
      },
      "source": [
        "!kaggle datasets download yamaerenay/spotify-tracks-dataset-19222021 -p /content/gdrive/My\\ Drive/Udacity\\ Data\\ Science\\ Nanodegree/spotify_data"
      ],
      "execution_count": 41,
      "outputs": [
        {
          "output_type": "stream",
          "text": [
            "Downloading spotify-tracks-dataset-19222021.zip to /content/gdrive/My Drive/Udacity Data Science Nanodegree/spotify_data\n",
            "100% 1.34G/1.34G [00:14<00:00, 125MB/s]\n",
            "100% 1.34G/1.34G [00:14<00:00, 100MB/s]\n"
          ],
          "name": "stdout"
        }
      ]
    },
    {
      "cell_type": "code",
      "metadata": {
        "colab": {
          "base_uri": "https://localhost:8080/"
        },
        "id": "d_VZrvmwuc7d",
        "outputId": "21b031ca-a375-460d-9cc4-26e51829d1ee"
      },
      "source": [
        "!mkdir tracks_data\n",
        "!unzip spotify-artists-dataset-19222021.zip -d tracks_data"
      ],
      "execution_count": 42,
      "outputs": [
        {
          "output_type": "stream",
          "text": [
            "Archive:  spotify-artists-dataset-19222021.zip\n",
            "  inflating: tracks_data/BI.csv      \n",
            "  inflating: tracks_data/CA.csv      \n",
            "  inflating: tracks_data/CH.csv      \n",
            "  inflating: tracks_data/CL.csv      \n",
            "  inflating: tracks_data/CM.csv      \n",
            "  inflating: tracks_data/CO.csv      \n",
            "  inflating: tracks_data/CR.csv      \n",
            "  inflating: tracks_data/CY.csv      \n",
            "  inflating: tracks_data/CZ.csv      \n",
            "  inflating: tracks_data/DE.csv      \n",
            "  inflating: tracks_data/DJ.csv      \n",
            "  inflating: tracks_data/DK.csv      \n",
            "  inflating: tracks_data/DM.csv      \n",
            "  inflating: tracks_data/DO.csv      \n",
            "  inflating: tracks_data/EC.csv      \n",
            "  inflating: tracks_data/EE.csv      \n",
            "  inflating: tracks_data/EG.csv      \n",
            "  inflating: tracks_data/ES.csv      \n",
            "  inflating: tracks_data/FI.csv      \n",
            "  inflating: tracks_data/FJ.csv      \n",
            "  inflating: tracks_data/FR.csv      \n",
            "  inflating: tracks_data/GA.csv      \n",
            "  inflating: tracks_data/GB.csv      \n",
            "  inflating: tracks_data/GD.csv      \n",
            "  inflating: tracks_data/GE.csv      \n",
            "  inflating: tracks_data/GH.csv      \n",
            "  inflating: tracks_data/GM.csv      \n",
            "  inflating: tracks_data/GN.csv      \n",
            "  inflating: tracks_data/GQ.csv      \n",
            "  inflating: tracks_data/GR.csv      \n",
            "  inflating: tracks_data/GT.csv      \n",
            "  inflating: tracks_data/GW.csv      \n",
            "  inflating: tracks_data/GY.csv      \n",
            "  inflating: tracks_data/HK.csv      \n",
            "  inflating: tracks_data/HN.csv      \n",
            "  inflating: tracks_data/HR.csv      \n",
            "  inflating: tracks_data/HT.csv      \n",
            "  inflating: tracks_data/HU.csv      \n",
            "  inflating: tracks_data/ID.csv      \n",
            "  inflating: tracks_data/IE.csv      \n",
            "  inflating: tracks_data/IL.csv      \n",
            "  inflating: tracks_data/IN.csv      \n",
            "  inflating: tracks_data/IS.csv      \n",
            "  inflating: tracks_data/IT.csv      \n",
            "  inflating: tracks_data/JM.csv      \n",
            "  inflating: tracks_data/JO.csv      \n",
            "  inflating: tracks_data/JP.csv      \n",
            "  inflating: tracks_data/KE.csv      \n",
            "  inflating: tracks_data/KG.csv      \n",
            "  inflating: tracks_data/KH.csv      \n",
            "  inflating: tracks_data/KI.csv      \n",
            "  inflating: tracks_data/KM.csv      \n",
            "  inflating: tracks_data/KW.csv      \n",
            "  inflating: tracks_data/KZ.csv      \n",
            "  inflating: tracks_data/LA.csv      \n",
            "  inflating: tracks_data/LB.csv      \n",
            "  inflating: tracks_data/LI.csv      \n",
            "  inflating: tracks_data/LK.csv      \n",
            "  inflating: tracks_data/LR.csv      \n",
            "  inflating: tracks_data/LS.csv      \n",
            "  inflating: tracks_data/LT.csv      \n",
            "  inflating: tracks_data/LU.csv      \n",
            "  inflating: tracks_data/LV.csv      \n",
            "  inflating: tracks_data/MA.csv      \n",
            "  inflating: tracks_data/MC.csv      \n",
            "  inflating: tracks_data/ME.csv      \n",
            "  inflating: tracks_data/MG.csv      \n",
            "  inflating: tracks_data/MH.csv      \n",
            "  inflating: tracks_data/ML.csv      \n",
            "  inflating: tracks_data/MN.csv      \n",
            "  inflating: tracks_data/MO.csv      \n",
            "  inflating: tracks_data/MR.csv      \n",
            "  inflating: tracks_data/MT.csv      \n",
            "  inflating: tracks_data/MU.csv      \n",
            "  inflating: tracks_data/MV.csv      \n",
            "  inflating: tracks_data/MW.csv      \n",
            "  inflating: tracks_data/MX.csv      \n",
            "  inflating: tracks_data/MY.csv      \n",
            "  inflating: tracks_data/MZ.csv      \n",
            "  inflating: tracks_data/NE.csv      \n",
            "  inflating: tracks_data/NG.csv      \n",
            "  inflating: tracks_data/NI.csv      \n",
            "  inflating: tracks_data/NL.csv      \n",
            "  inflating: tracks_data/NO.csv      \n",
            "  inflating: tracks_data/NP.csv      \n",
            "  inflating: tracks_data/NR.csv      \n",
            "  inflating: tracks_data/NZ.csv      \n",
            "  inflating: tracks_data/OM.csv      \n",
            "  inflating: tracks_data/PA.csv      \n",
            "  inflating: tracks_data/PE.csv      \n",
            "  inflating: tracks_data/PG.csv      \n",
            "  inflating: tracks_data/PH.csv      \n",
            "  inflating: tracks_data/PK.csv      \n",
            "  inflating: tracks_data/PL.csv      \n",
            "  inflating: tracks_data/PT.csv      \n",
            "  inflating: tracks_data/PW.csv      \n",
            "  inflating: tracks_data/PY.csv      \n",
            "  inflating: tracks_data/QA.csv      \n",
            "  inflating: tracks_data/RO.csv      \n",
            "  inflating: tracks_data/RS.csv      \n",
            "  inflating: tracks_data/RW.csv      \n",
            "  inflating: tracks_data/SA.csv      \n",
            "  inflating: tracks_data/SB.csv      \n",
            "  inflating: tracks_data/SC.csv      \n",
            "  inflating: tracks_data/SE.csv      \n",
            "  inflating: tracks_data/SG.csv      \n",
            "  inflating: tracks_data/SI.csv      \n",
            "  inflating: tracks_data/SK.csv      \n",
            "  inflating: tracks_data/SL.csv      \n",
            "  inflating: tracks_data/SM.csv      \n",
            "  inflating: tracks_data/SN.csv      \n",
            "  inflating: tracks_data/ST.csv      \n",
            "  inflating: tracks_data/SV.csv      \n",
            "  inflating: tracks_data/SZ.csv      \n",
            "  inflating: tracks_data/TD.csv      \n",
            "  inflating: tracks_data/TG.csv      \n",
            "  inflating: tracks_data/TH.csv      \n",
            "  inflating: tracks_data/TL.csv      \n",
            "  inflating: tracks_data/TN.csv      \n",
            "  inflating: tracks_data/TO.csv      \n",
            "  inflating: tracks_data/TR.csv      \n",
            "  inflating: tracks_data/TT.csv      \n",
            "  inflating: tracks_data/TV.csv      \n",
            "  inflating: tracks_data/UA.csv      \n",
            "  inflating: tracks_data/UG.csv      \n"
          ],
          "name": "stdout"
        }
      ]
    },
    {
      "cell_type": "code",
      "metadata": {
        "id": "_YRiyx_wueQI"
      },
      "source": [
        ""
      ],
      "execution_count": null,
      "outputs": []
    }
  ]
}
